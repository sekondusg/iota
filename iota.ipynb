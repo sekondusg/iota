{
 "cells": [
  {
   "cell_type": "code",
   "execution_count": null,
   "metadata": {},
   "outputs": [],
   "source": [
    "from AWSIoTPythonSDK.MQTTLib import AWSIoTMQTTShadowClient\n",
    "import json"
   ]
  },
  {
   "cell_type": "code",
   "execution_count": null,
   "metadata": {},
   "outputs": [],
   "source": [
    "myShadowClient = AWSIoTMQTTShadowClient(\"iota\")"
   ]
  },
  {
   "cell_type": "code",
   "execution_count": null,
   "metadata": {},
   "outputs": [],
   "source": [
    "myShadowClient.configureEndpoint(thingEndpoint, 8883)"
   ]
  },
  {
   "cell_type": "code",
   "execution_count": null,
   "metadata": {},
   "outputs": [],
   "source": [
    "thingEndpoint=\"a3lybv9v64fkof.iot.us-west-2.amazonaws.com\""
   ]
  },
  {
   "cell_type": "code",
   "execution_count": null,
   "metadata": {},
   "outputs": [],
   "source": [
    "AWS=\"/users/denni/aws\""
   ]
  },
  {
   "cell_type": "code",
   "execution_count": null,
   "metadata": {},
   "outputs": [],
   "source": [
    "myShadowClient.configureCredentials(AWS+\"/aws-iot-root-ca.pem\", AWS+\"/b498bb82fa-private.pem.key\", AWS+\"/b498bb82fa-certificate.pem.crt\")"
   ]
  },
  {
   "cell_type": "code",
   "execution_count": null,
   "metadata": {},
   "outputs": [],
   "source": [
    "myShadowClient.configureConnectDisconnectTimeout(10)  # 10 sec\n",
    "myShadowClient.configureMQTTOperationTimeout(5)  # 5 sec"
   ]
  },
  {
   "cell_type": "code",
   "execution_count": null,
   "metadata": {},
   "outputs": [],
   "source": [
    "myShadowClient.connect()\n",
    "()"
   ]
  },
  {
   "cell_type": "code",
   "execution_count": null,
   "metadata": {},
   "outputs": [],
   "source": [
    "myShadowClient.disconnect()"
   ]
  },
  {
   "cell_type": "code",
   "execution_count": null,
   "metadata": {},
   "outputs": [],
   "source": [
    "myDeviceShadow = myShadowClient.createShadowHandlerWithName(\"iota\", True)"
   ]
  },
  {
   "cell_type": "code",
   "execution_count": null,
   "metadata": {},
   "outputs": [],
   "source": [
    "def onResponse(payload, responseStatus, token):\n",
    "    pd = json.loads(payload)\n",
    "    ps = json.dumps(pd, indent=4)\n",
    "    print(\"onResponse(): responseStatus: \" + str(responseStatus) + \", token: \" + str(token) + \", payload: \" + str(ps)\n",
    "         )\n",
    "    "
   ]
  },
  {
   "cell_type": "code",
   "execution_count": null,
   "metadata": {},
   "outputs": [],
   "source": [
    "myDeviceShadow.shadowGet(onResponse, 5)"
   ]
  },
  {
   "cell_type": "code",
   "execution_count": null,
   "metadata": {},
   "outputs": [],
   "source": [
    "initState = json.dumps({\n",
    "    \"state\": {\n",
    "        \"reported\": {\n",
    "            \"outlet1\": \"off\",\n",
    "            \"outlet2\": \"off\",\n",
    "            \"motion\": \"false\",\n",
    "            \"temperature\": 0.0\n",
    "        }\n",
    "    }\n",
    "})\n",
    "\n",
    "newState = json.dumps({\n",
    "    \"state\": {\n",
    "        \"reported\": {\n",
    "            \"outlet1\": \"on\",\n",
    "            \"outlet2\": \"off\",\n",
    "            \"motion\": \"false\",\n",
    "            \"temperature\": 0.0\n",
    "        }\n",
    "    }    \n",
    "})\n",
    "\n",
    "desState = json.dumps({\n",
    "    \"state\": {\n",
    "        \"desired\": {\n",
    "            \"outlet1\": \"on\",\n",
    "            \"outlet2\": \"on\",\n",
    "            \"motion\": \"false\",\n",
    "            \"temperature\": 0.0\n",
    "        }\n",
    "    }    \n",
    "})"
   ]
  },
  {
   "cell_type": "code",
   "execution_count": null,
   "metadata": {},
   "outputs": [],
   "source": [
    "myDeviceShadow.shadowRegisterDeltaCallback(onResponse)"
   ]
  },
  {
   "cell_type": "code",
   "execution_count": null,
   "metadata": {},
   "outputs": [],
   "source": [
    "myDeviceShadow.shadowUpdate(initState, onResponse, 5)"
   ]
  },
  {
   "cell_type": "code",
   "execution_count": null,
   "metadata": {},
   "outputs": [],
   "source": [
    "myDeviceShadow.shadowUpdate(desState, onResponse, 5)"
   ]
  },
  {
   "cell_type": "code",
   "execution_count": null,
   "metadata": {},
   "outputs": [],
   "source": [
    "%run iota.py"
   ]
  },
  {
   "cell_type": "code",
   "execution_count": null,
   "metadata": {},
   "outputs": [],
   "source": [
    "#iota = Iota()"
   ]
  },
  {
   "cell_type": "code",
   "execution_count": null,
   "metadata": {},
   "outputs": [],
   "source": [
    "iota.shadow.shadowRegisterDeltaCallback(onDelta)"
   ]
  },
  {
   "cell_type": "code",
   "execution_count": null,
   "metadata": {},
   "outputs": [],
   "source": [
    "iota.getShadow()"
   ]
  },
  {
   "cell_type": "code",
   "execution_count": null,
   "metadata": {},
   "outputs": [],
   "source": [
    "iota.disconnect()"
   ]
  },
  {
   "cell_type": "code",
   "execution_count": null,
   "metadata": {},
   "outputs": [],
   "source": [
    "iota.setOutlet2(\"on\")"
   ]
  },
  {
   "cell_type": "code",
   "execution_count": null,
   "metadata": {},
   "outputs": [],
   "source": []
  }
 ],
 "metadata": {
  "kernelspec": {
   "display_name": "Python 3",
   "language": "python",
   "name": "python3"
  },
  "language_info": {
   "codemirror_mode": {
    "name": "ipython",
    "version": 3
   },
   "file_extension": ".py",
   "mimetype": "text/x-python",
   "name": "python",
   "nbconvert_exporter": "python",
   "pygments_lexer": "ipython3",
   "version": "3.6.5"
  }
 },
 "nbformat": 4,
 "nbformat_minor": 2
}
