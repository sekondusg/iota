{
 "cells": [
  {
   "cell_type": "code",
   "execution_count": 26,
   "metadata": {},
   "outputs": [],
   "source": [
    "from AWSIoTPythonSDK.MQTTLib import AWSIoTMQTTShadowClient\n",
    "import json"
   ]
  },
  {
   "cell_type": "code",
   "execution_count": 17,
   "metadata": {},
   "outputs": [],
   "source": [
    "myShadowClient = AWSIoTMQTTShadowClient(\"iota\")"
   ]
  },
  {
   "cell_type": "code",
   "execution_count": 18,
   "metadata": {},
   "outputs": [],
   "source": [
    "myShadowClient.configureEndpoint(thingEndpoint, 8883)"
   ]
  },
  {
   "cell_type": "code",
   "execution_count": 19,
   "metadata": {},
   "outputs": [],
   "source": [
    "thingEndpoint=\"a3lybv9v64fkof.iot.us-west-2.amazonaws.com\""
   ]
  },
  {
   "cell_type": "code",
   "execution_count": 20,
   "metadata": {},
   "outputs": [],
   "source": [
    "myShadowClient.configureCredentials(\"/home/dennis/.aws/aws-iot-root-ca.pem\", \"/home/dennis/.aws/b498bb82fa-private.pem.key\", \"/home/dennis/.aws/b498bb82fa-certificate.pem.crt\")"
   ]
  },
  {
   "cell_type": "code",
   "execution_count": 21,
   "metadata": {},
   "outputs": [],
   "source": [
    "myShadowClient.configureConnectDisconnectTimeout(10)  # 10 sec\n",
    "myShadowClient.configureMQTTOperationTimeout(5)  # 5 sec"
   ]
  },
  {
   "cell_type": "code",
   "execution_count": 22,
   "metadata": {},
   "outputs": [
    {
     "data": {
      "text/plain": [
       "()"
      ]
     },
     "execution_count": 22,
     "metadata": {},
     "output_type": "execute_result"
    }
   ],
   "source": [
    "myShadowClient.connect()\n",
    "()"
   ]
  },
  {
   "cell_type": "code",
   "execution_count": 23,
   "metadata": {},
   "outputs": [],
   "source": [
    "myDeviceShadow = myShadowClient.createShadowHandlerWithName(\"iota\", True)"
   ]
  },
  {
   "cell_type": "code",
   "execution_count": 37,
   "metadata": {},
   "outputs": [],
   "source": [
    "def onResponse(payload, responseStatus, token):\n",
    "    pd = json.loads(payload)\n",
    "    ps = json.dumps(pd, indent=4)\n",
    "    print(\"onResponse(): responseStatus: \" + str(responseStatus) + \", token: \" + str(token) + \", payload: \" + str(ps)\n",
    "         )\n",
    "    "
   ]
  },
  {
   "cell_type": "code",
   "execution_count": 50,
   "metadata": {},
   "outputs": [
    {
     "data": {
      "text/plain": [
       "'738dc944-ba87-44fb-8338-d89b7b32dda4'"
      ]
     },
     "execution_count": 50,
     "metadata": {},
     "output_type": "execute_result"
    },
    {
     "name": "stdout",
     "output_type": "stream",
     "text": [
      "onResponse(): responseStatus: accepted, token: 738dc944-ba87-44fb-8338-d89b7b32dda4, payload: {\n",
      "    \"state\": {\n",
      "        \"desired\": {\n",
      "            \"outlet1\": \"on\",\n",
      "            \"outlet2\": \"on\",\n",
      "            \"motion\": \"false\",\n",
      "            \"temperature\": 0.0\n",
      "        },\n",
      "        \"reported\": {\n",
      "            \"outlet1\": \"on\",\n",
      "            \"outlet2\": \"off\",\n",
      "            \"motion\": \"false\",\n",
      "            \"temperature\": 0.0\n",
      "        },\n",
      "        \"delta\": {\n",
      "            \"outlet2\": \"on\"\n",
      "        }\n",
      "    },\n",
      "    \"metadata\": {\n",
      "        \"desired\": {\n",
      "            \"outlet1\": {\n",
      "                \"timestamp\": 1528929824\n",
      "            },\n",
      "            \"outlet2\": {\n",
      "                \"timestamp\": 1528929824\n",
      "            },\n",
      "            \"motion\": {\n",
      "                \"timestamp\": 1528929824\n",
      "            },\n",
      "            \"temperature\": {\n",
      "                \"timestamp\": 1528929824\n",
      "            }\n",
      "        },\n",
      "        \"reported\": {\n",
      "            \"outlet1\": {\n",
      "                \"timestamp\": 1528929656\n",
      "            },\n",
      "            \"outlet2\": {\n",
      "                \"timestamp\": 1528929656\n",
      "            },\n",
      "            \"motion\": {\n",
      "                \"timestamp\": 1528929656\n",
      "            },\n",
      "            \"temperature\": {\n",
      "                \"timestamp\": 1528929656\n",
      "            }\n",
      "        }\n",
      "    },\n",
      "    \"version\": 4,\n",
      "    \"timestamp\": 1528929880,\n",
      "    \"clientToken\": \"738dc944-ba87-44fb-8338-d89b7b32dda4\"\n",
      "}\n",
      "onResponse(): responseStatus: delta/iota, token: None, payload: {\n",
      "    \"version\": 5,\n",
      "    \"timestamp\": 1528932930,\n",
      "    \"state\": {\n",
      "        \"outlet1\": \"off\",\n",
      "        \"outlet2\": \"on\"\n",
      "    },\n",
      "    \"metadata\": {\n",
      "        \"outlet1\": {\n",
      "            \"timestamp\": 1528932930\n",
      "        },\n",
      "        \"outlet2\": {\n",
      "            \"timestamp\": 1528932930\n",
      "        }\n",
      "    }\n",
      "}\n"
     ]
    }
   ],
   "source": [
    "myDeviceShadow.shadowGet(onResponse, 5)"
   ]
  },
  {
   "cell_type": "code",
   "execution_count": 48,
   "metadata": {},
   "outputs": [],
   "source": [
    "initState = json.dumps({\n",
    "    \"state\": {\n",
    "        \"reported\": {\n",
    "            \"outlet1\": \"off\",\n",
    "            \"outlet2\": \"off\",\n",
    "            \"motion\": \"false\",\n",
    "            \"temperature\": 0.0\n",
    "        }\n",
    "    }\n",
    "})\n",
    "\n",
    "newState = json.dumps({\n",
    "    \"state\": {\n",
    "        \"reported\": {\n",
    "            \"outlet1\": \"on\",\n",
    "            \"outlet2\": \"off\",\n",
    "            \"motion\": \"false\",\n",
    "            \"temperature\": 0.0\n",
    "        }\n",
    "    }    \n",
    "})\n",
    "\n",
    "desState = json.dumps({\n",
    "    \"state\": {\n",
    "        \"desired\": {\n",
    "            \"outlet1\": \"on\",\n",
    "            \"outlet2\": \"on\",\n",
    "            \"motion\": \"false\",\n",
    "            \"temperature\": 0.0\n",
    "        }\n",
    "    }    \n",
    "})"
   ]
  },
  {
   "cell_type": "code",
   "execution_count": 40,
   "metadata": {},
   "outputs": [],
   "source": [
    "myDeviceShadow.shadowRegisterDeltaCallback(onResponse)"
   ]
  },
  {
   "cell_type": "code",
   "execution_count": 45,
   "metadata": {},
   "outputs": [
    {
     "data": {
      "text/plain": [
       "'0a32a50b-51ad-4064-9bd2-e956e27d31f4'"
      ]
     },
     "execution_count": 45,
     "metadata": {},
     "output_type": "execute_result"
    },
    {
     "name": "stdout",
     "output_type": "stream",
     "text": [
      "onResponse(): responseStatus: accepted, token: 0a32a50b-51ad-4064-9bd2-e956e27d31f4, payload: {\n",
      "    \"state\": {\n",
      "        \"reported\": {\n",
      "            \"outlet1\": \"off\",\n",
      "            \"outlet2\": \"off\",\n",
      "            \"motion\": \"false\",\n",
      "            \"temperature\": 0.0\n",
      "        }\n",
      "    },\n",
      "    \"metadata\": {\n",
      "        \"reported\": {\n",
      "            \"outlet1\": {\n",
      "                \"timestamp\": 1528929501\n",
      "            },\n",
      "            \"outlet2\": {\n",
      "                \"timestamp\": 1528929501\n",
      "            },\n",
      "            \"motion\": {\n",
      "                \"timestamp\": 1528929501\n",
      "            },\n",
      "            \"temperature\": {\n",
      "                \"timestamp\": 1528929501\n",
      "            }\n",
      "        }\n",
      "    },\n",
      "    \"version\": 2,\n",
      "    \"timestamp\": 1528929501,\n",
      "    \"clientToken\": \"0a32a50b-51ad-4064-9bd2-e956e27d31f4\"\n",
      "}\n"
     ]
    }
   ],
   "source": [
    "myDeviceShadow.shadowUpdate(initState, onResponse, 5)"
   ]
  },
  {
   "cell_type": "code",
   "execution_count": 49,
   "metadata": {},
   "outputs": [
    {
     "data": {
      "text/plain": [
       "'50ecb65f-a76b-4140-bba7-3ca8b3f1993b'"
      ]
     },
     "execution_count": 49,
     "metadata": {},
     "output_type": "execute_result"
    },
    {
     "name": "stdout",
     "output_type": "stream",
     "text": [
      "onResponse(): responseStatus: accepted, token: 50ecb65f-a76b-4140-bba7-3ca8b3f1993b, payload: {\n",
      "    \"state\": {\n",
      "        \"desired\": {\n",
      "            \"outlet1\": \"on\",\n",
      "            \"outlet2\": \"on\",\n",
      "            \"motion\": \"false\",\n",
      "            \"temperature\": 0.0\n",
      "        }\n",
      "    },\n",
      "    \"metadata\": {\n",
      "        \"desired\": {\n",
      "            \"outlet1\": {\n",
      "                \"timestamp\": 1528929824\n",
      "            },\n",
      "            \"outlet2\": {\n",
      "                \"timestamp\": 1528929824\n",
      "            },\n",
      "            \"motion\": {\n",
      "                \"timestamp\": 1528929824\n",
      "            },\n",
      "            \"temperature\": {\n",
      "                \"timestamp\": 1528929824\n",
      "            }\n",
      "        }\n",
      "    },\n",
      "    \"version\": 4,\n",
      "    \"timestamp\": 1528929824,\n",
      "    \"clientToken\": \"50ecb65f-a76b-4140-bba7-3ca8b3f1993b\"\n",
      "}\n"
     ]
    }
   ],
   "source": [
    "myDeviceShadow.shadowUpdate(desState, onResponse, 5)"
   ]
  },
  {
   "cell_type": "code",
   "execution_count": null,
   "metadata": {},
   "outputs": [],
   "source": []
  }
 ],
 "metadata": {
  "kernelspec": {
   "display_name": "Python 3",
   "language": "python",
   "name": "python3"
  },
  "language_info": {
   "codemirror_mode": {
    "name": "ipython",
    "version": 3
   },
   "file_extension": ".py",
   "mimetype": "text/x-python",
   "name": "python",
   "nbconvert_exporter": "python",
   "pygments_lexer": "ipython3",
   "version": "3.6.5"
  }
 },
 "nbformat": 4,
 "nbformat_minor": 2
}
