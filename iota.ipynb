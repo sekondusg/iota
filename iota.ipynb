{
 "cells": [
  {
   "cell_type": "code",
   "execution_count": null,
   "metadata": {},
   "outputs": [],
   "source": [
    "from AWSIoTPythonSDK.MQTTLib import AWSIoTMQTTShadowClient\n",
    "import json"
   ]
  },
  {
   "cell_type": "code",
   "execution_count": null,
   "metadata": {},
   "outputs": [],
   "source": [
    "myShadowClient = AWSIoTMQTTShadowClient(\"iota\")"
   ]
  },
  {
   "cell_type": "code",
   "execution_count": null,
   "metadata": {},
   "outputs": [],
   "source": [
    "myShadowClient.configureEndpoint(thingEndpoint, 8883)"
   ]
  },
  {
   "cell_type": "code",
   "execution_count": null,
   "metadata": {},
   "outputs": [],
   "source": [
    "thingEndpoint=\"a3lybv9v64fkof.iot.us-west-2.amazonaws.com\""
   ]
  },
  {
   "cell_type": "code",
   "execution_count": null,
   "metadata": {},
   "outputs": [],
   "source": [
    "AWS=\"/users/denni/aws\""
   ]
  },
  {
   "cell_type": "code",
   "execution_count": null,
   "metadata": {},
   "outputs": [],
   "source": [
    "myShadowClient.configureCredentials(AWS+\"/aws-iot-root-ca.pem\", AWS+\"/b498bb82fa-private.pem.key\", AWS+\"/b498bb82fa-certificate.pem.crt\")"
   ]
  },
  {
   "cell_type": "code",
   "execution_count": null,
   "metadata": {},
   "outputs": [],
   "source": [
    "myShadowClient.configureConnectDisconnectTimeout(10)  # 10 sec\n",
    "myShadowClient.configureMQTTOperationTimeout(5)  # 5 sec"
   ]
  },
  {
   "cell_type": "code",
   "execution_count": null,
   "metadata": {},
   "outputs": [],
   "source": [
    "myShadowClient.connect()\n",
    "()"
   ]
  },
  {
   "cell_type": "code",
   "execution_count": null,
   "metadata": {},
   "outputs": [],
   "source": [
    "myShadowClient.disconnect()"
   ]
  },
  {
   "cell_type": "code",
   "execution_count": null,
   "metadata": {},
   "outputs": [],
   "source": [
    "myDeviceShadow = myShadowClient.createShadowHandlerWithName(\"iota\", True)"
   ]
  },
  {
   "cell_type": "code",
   "execution_count": null,
   "metadata": {},
   "outputs": [],
   "source": [
    "def onResponse(payload, responseStatus, token):\n",
    "    pd = json.loads(payload)\n",
    "    ps = json.dumps(pd, indent=4)\n",
    "    print(\"onResponse(): responseStatus: \" + str(responseStatus) + \", token: \" + str(token) + \", payload: \" + str(ps)\n",
    "         )\n",
    "    "
   ]
  },
  {
   "cell_type": "code",
   "execution_count": null,
   "metadata": {},
   "outputs": [],
   "source": [
    "myDeviceShadow.shadowGet(onResponse, 5)"
   ]
  },
  {
   "cell_type": "code",
   "execution_count": null,
   "metadata": {},
   "outputs": [],
   "source": [
    "initState = json.dumps({\n",
    "    \"state\": {\n",
    "        \"reported\": {\n",
    "            \"outlet1\": \"off\",\n",
    "            \"outlet2\": \"off\",\n",
    "            \"motion\": \"false\",\n",
    "            \"temperature\": 0.0\n",
    "        }\n",
    "    }\n",
    "})\n",
    "\n",
    "newState = json.dumps({\n",
    "    \"state\": {\n",
    "        \"reported\": {\n",
    "            \"outlet1\": \"on\",\n",
    "            \"outlet2\": \"off\",\n",
    "            \"motion\": \"false\",\n",
    "            \"temperature\": 0.0\n",
    "        }\n",
    "    }    \n",
    "})\n",
    "\n",
    "desState = json.dumps({\n",
    "    \"state\": {\n",
    "        \"desired\": {\n",
    "            \"outlet1\": \"on\",\n",
    "            \"outlet2\": \"on\",\n",
    "            \"motion\": \"false\",\n",
    "            \"temperature\": 0.0\n",
    "        }\n",
    "    }    \n",
    "})"
   ]
  },
  {
   "cell_type": "code",
   "execution_count": null,
   "metadata": {},
   "outputs": [],
   "source": [
    "myDeviceShadow.shadowRegisterDeltaCallback(onResponse)"
   ]
  },
  {
   "cell_type": "code",
   "execution_count": null,
   "metadata": {},
   "outputs": [],
   "source": [
    "myDeviceShadow.shadowUpdate(initState, onResponse, 5)"
   ]
  },
  {
   "cell_type": "code",
   "execution_count": null,
   "metadata": {},
   "outputs": [],
   "source": [
    "myDeviceShadow.shadowUpdate(desState, onResponse, 5)"
   ]
  },
  {
   "cell_type": "code",
   "execution_count": 1,
   "metadata": {},
   "outputs": [
    {
     "name": "stdout",
     "output_type": "stream",
     "text": [
      "INFO:root:init(): creating an instance of Iota\n",
      "INFO:root:init(): connecting to AWS Shadow\n",
      "INFO:AWSIoTPythonSDK.core.protocol.mqtt_core:MqttCore initialized\n",
      "INFO:AWSIoTPythonSDK.core.protocol.mqtt_core:Client id: iota\n",
      "INFO:AWSIoTPythonSDK.core.protocol.mqtt_core:Protocol version: MQTTv3.1.1\n",
      "INFO:AWSIoTPythonSDK.core.protocol.mqtt_core:Authentication type: TLSv1.2 certificate based Mutual Auth.\n",
      "INFO:AWSIoTPythonSDK.core.protocol.mqtt_core:Configuring offline requests queueing: max queue size: 0\n",
      "INFO:AWSIoTPythonSDK.core.protocol.mqtt_core:Configuring offline requests queue draining interval: 0.100000 sec\n",
      "INFO:AWSIoTPythonSDK.core.protocol.mqtt_core:Configuring endpoint...\n",
      "INFO:AWSIoTPythonSDK.core.protocol.mqtt_core:Configuring certificates...\n",
      "INFO:AWSIoTPythonSDK.core.protocol.mqtt_core:Configuring connect/disconnect time out: 10.000000 sec\n",
      "INFO:AWSIoTPythonSDK.core.protocol.mqtt_core:Configuring MQTT operation time out: 5.000000 sec\n",
      "INFO:AWSIoTPythonSDK.core.protocol.mqtt_core:Performing sync connect...\n",
      "INFO:AWSIoTPythonSDK.core.protocol.mqtt_core:Performing async connect...\n",
      "INFO:AWSIoTPythonSDK.core.protocol.mqtt_core:Keep-alive: 600.000000 sec\n",
      "INFO:root:init(): connected to AWS Shadow\n",
      "INFO:root:init(): retrieving AWS Shadow\n",
      "INFO:root:init(): registering delta callback\n",
      "INFO:root:init(): Iota created\n"
     ]
    }
   ],
   "source": [
    "%run iota.py"
   ]
  },
  {
   "cell_type": "code",
   "execution_count": null,
   "metadata": {},
   "outputs": [],
   "source": [
    "#iota = Iota()"
   ]
  },
  {
   "cell_type": "code",
   "execution_count": 2,
   "metadata": {},
   "outputs": [
    {
     "name": "stdout",
     "output_type": "stream",
     "text": [
      "INFO:AWSIoTPythonSDK.core.protocol.mqtt_core:Performing sync subscribe...\n",
      "INFO:AWSIoTPythonSDK.core.shadow.deviceShadow:Subscribed to delta topic for deviceShadow: iota\n"
     ]
    }
   ],
   "source": [
    "iota.shadow.shadowRegisterDeltaCallback(onDelta)"
   ]
  },
  {
   "cell_type": "code",
   "execution_count": 3,
   "metadata": {},
   "outputs": [
    {
     "name": "stdout",
     "output_type": "stream",
     "text": [
      "INFO:AWSIoTPythonSDK.core.protocol.mqtt_core:Performing sync subscribe...\n",
      "INFO:AWSIoTPythonSDK.core.protocol.mqtt_core:Performing sync subscribe...\n",
      "INFO:AWSIoTPythonSDK.core.shadow.deviceShadow:Subscribed to get accepted/rejected topics for deviceShadow: iota\n",
      "INFO:AWSIoTPythonSDK.core.protocol.mqtt_core:Performing sync publish...\n"
     ]
    },
    {
     "data": {
      "text/plain": [
       "'6c00bc93-749a-41e9-8581-54bbff90045d'"
      ]
     },
     "execution_count": 3,
     "metadata": {},
     "output_type": "execute_result"
    },
    {
     "name": "stdout",
     "output_type": "stream",
     "text": [
      "onResponse(): calling iota.onResponse(): responseStatus: accepted\n",
      "INFO:root:iota.onResponse(): responseStatus: accepted\n",
      "onResponse(): thread spawned by caller\n",
      "INFO:root:onResponse(): responseStatus: accepted, token: 6c00bc93-749a-41e9-8581-54bbff90045d, payload: {\n",
      "    \"state\": {\n",
      "        \"desired\": {\n",
      "            \"outlet1\": \"off\",\n",
      "            \"outlet2\": \"off\"\n",
      "        },\n",
      "        \"reported\": {\n",
      "            \"outlet1\": \"off\",\n",
      "            \"outlet2\": \"off\"\n",
      "        }\n",
      "    },\n",
      "    \"metadata\": {\n",
      "        \"desired\": {\n",
      "            \"outlet1\": {\n",
      "                \"timestamp\": 1531710280\n",
      "            },\n",
      "            \"outlet2\": {\n",
      "                \"timestamp\": 1531710280\n",
      "            }\n",
      "        },\n",
      "        \"reported\": {\n",
      "            \"outlet1\": {\n",
      "                \"timestamp\": 1531702686\n",
      "            },\n",
      "            \"outlet2\": {\n",
      "                \"timestamp\": 1531702686\n",
      "            }\n",
      "        }\n",
      "    },\n",
      "    \"version\": 13,\n",
      "    \"timestamp\": 1531710737,\n",
      "    \"clientToken\": \"6c00bc93-749a-41e9-8581-54bbff90045d\"\n",
      "}\n",
      "INFO:root:iota.onResponse(): payload: {\n",
      "    \"state\": {\n",
      "        \"desired\": {\n",
      "            \"outlet1\": \"off\",\n",
      "            \"outlet2\": \"off\"\n",
      "        },\n",
      "        \"reported\": {\n",
      "            \"outlet1\": \"off\",\n",
      "            \"outlet2\": \"off\"\n",
      "        }\n",
      "    },\n",
      "    \"metadata\": {\n",
      "        \"desired\": {\n",
      "            \"outlet1\": {\n",
      "                \"timestamp\": 1531710280\n",
      "            },\n",
      "            \"outlet2\": {\n",
      "                \"timestamp\": 1531710280\n",
      "            }\n",
      "        },\n",
      "        \"reported\": {\n",
      "            \"outlet1\": {\n",
      "                \"timestamp\": 1531702686\n",
      "            },\n",
      "            \"outlet2\": {\n",
      "                \"timestamp\": 1531702686\n",
      "            }\n",
      "        }\n",
      "    },\n",
      "    \"version\": 13,\n",
      "    \"timestamp\": 1531710737,\n",
      "    \"clientToken\": \"6c00bc93-749a-41e9-8581-54bbff90045d\"\n",
      "}\n",
      "onDelta(): calling iota.onDelta(): responseStatus: delta/iota\n",
      "INFO:root:iota.onDelta(): responseStatus: delta/iota\n",
      "onDelta(): thread spawned by caller\n",
      "INFO:root:onDelta() detected changes to: [('outlet1', 'on'), ('outlet2', 'on')]\n",
      "INFO:root:iota.shadowUpdate(): starting. preparing to update device shadow for changes: [('outlet1', 'on'), ('outlet2', 'on')]\n",
      "INFO:root:iota.shadowUpdate(): calling shadow.shadowUpdate. srcJSONPayload: {\"state\": {\"reported\": {\"outlet1\": \"on\", \"outlet2\": \"on\"}, \"desired\": {}}}\n",
      "INFO:AWSIoTPythonSDK.core.protocol.mqtt_core:Performing sync subscribe...\n",
      "INFO:AWSIoTPythonSDK.core.protocol.mqtt_core:Performing sync subscribe...\n",
      "INFO:AWSIoTPythonSDK.core.shadow.deviceShadow:Subscribed to update accepted/rejected topics for deviceShadow: iota\n",
      "INFO:AWSIoTPythonSDK.core.protocol.mqtt_core:Performing sync publish...\n",
      "INFO:root:iota.shadowUpdate(): starting. finished request to update device shadow\n",
      "INFO:root:onDelta(): responseStatus: delta/iota, token: None, payload: {\n",
      "    \"version\": 14,\n",
      "    \"timestamp\": 1531711004,\n",
      "    \"state\": {\n",
      "        \"outlet1\": \"on\",\n",
      "        \"outlet2\": \"on\"\n",
      "    },\n",
      "    \"metadata\": {\n",
      "        \"outlet1\": {\n",
      "            \"timestamp\": 1531711004\n",
      "        },\n",
      "        \"outlet2\": {\n",
      "            \"timestamp\": 1531711004\n",
      "        }\n",
      "    }\n",
      "}\n",
      "onResponse(): calling iota.onResponse(): responseStatus: accepted\n",
      "INFO:root:iota.onResponse(): responseStatus: accepted\n",
      "onResponse(): thread spawned by caller\n",
      "INFO:root:onResponse(): responseStatus: accepted, token: 2f07f977-a763-40fb-8d72-0bce04a8fe2a, payload: {\n",
      "    \"state\": {\n",
      "        \"reported\": {\n",
      "            \"outlet1\": \"on\",\n",
      "            \"outlet2\": \"on\"\n",
      "        },\n",
      "        \"desired\": {}\n",
      "    },\n",
      "    \"metadata\": {\n",
      "        \"reported\": {\n",
      "            \"outlet1\": {\n",
      "                \"timestamp\": 1531711006\n",
      "            },\n",
      "            \"outlet2\": {\n",
      "                \"timestamp\": 1531711006\n",
      "            }\n",
      "        },\n",
      "        \"desired\": {}\n",
      "    },\n",
      "    \"version\": 15,\n",
      "    \"timestamp\": 1531711006,\n",
      "    \"clientToken\": \"2f07f977-a763-40fb-8d72-0bce04a8fe2a\"\n",
      "}\n",
      "INFO:root:iota.onResponse(): payload: {\n",
      "    \"state\": {\n",
      "        \"reported\": {\n",
      "            \"outlet1\": \"on\",\n",
      "            \"outlet2\": \"on\"\n",
      "        },\n",
      "        \"desired\": {}\n",
      "    },\n",
      "    \"metadata\": {\n",
      "        \"reported\": {\n",
      "            \"outlet1\": {\n",
      "                \"timestamp\": 1531711006\n",
      "            },\n",
      "            \"outlet2\": {\n",
      "                \"timestamp\": 1531711006\n",
      "            }\n",
      "        },\n",
      "        \"desired\": {}\n",
      "    },\n",
      "    \"version\": 15,\n",
      "    \"timestamp\": 1531711006,\n",
      "    \"clientToken\": \"2f07f977-a763-40fb-8d72-0bce04a8fe2a\"\n",
      "}\n",
      "onDelta(): calling iota.onDelta(): responseStatus: delta/iota\n",
      "INFO:root:iota.onDelta(): responseStatus: delta/iota\n",
      "onDelta(): thread spawned by caller\n",
      "INFO:root:onDelta() detected changes to: [('outlet1', 'off'), ('outlet2', 'off')]\n",
      "INFO:root:iota.shadowUpdate(): starting. preparing to update device shadow for changes: [('outlet1', 'off'), ('outlet2', 'off')]\n",
      "INFO:root:iota.shadowUpdate(): calling shadow.shadowUpdate. srcJSONPayload: {\"state\": {\"reported\": {\"outlet1\": \"off\", \"outlet2\": \"off\"}, \"desired\": {}}}\n",
      "INFO:AWSIoTPythonSDK.core.protocol.mqtt_core:Performing sync publish...\n",
      "INFO:root:iota.shadowUpdate(): starting. finished request to update device shadow\n",
      "INFO:root:onDelta(): responseStatus: delta/iota, token: None, payload: {\n",
      "    \"version\": 16,\n",
      "    \"timestamp\": 1531711240,\n",
      "    \"state\": {\n",
      "        \"outlet1\": \"off\",\n",
      "        \"outlet2\": \"off\"\n",
      "    },\n",
      "    \"metadata\": {\n",
      "        \"outlet1\": {\n",
      "            \"timestamp\": 1531711240\n",
      "        },\n",
      "        \"outlet2\": {\n",
      "            \"timestamp\": 1531711240\n",
      "        }\n",
      "    }\n",
      "}\n",
      "onResponse(): calling iota.onResponse(): responseStatus: accepted\n",
      "INFO:root:iota.onResponse(): responseStatus: acceptedonResponse(): thread spawned by caller\n",
      "\n",
      "INFO:root:onResponse(): responseStatus: accepted, token: 7cc8527e-f4e0-4a67-ab6b-c4a4645bf877, payload: {\n",
      "    \"state\": {\n",
      "        \"reported\": {\n",
      "            \"outlet1\": \"off\",\n",
      "            \"outlet2\": \"off\"\n",
      "        },\n",
      "        \"desired\": {}\n",
      "    },\n",
      "    \"metadata\": {\n",
      "        \"reported\": {\n",
      "            \"outlet1\": {\n",
      "                \"timestamp\": 1531711240\n",
      "            },\n",
      "            \"outlet2\": {\n",
      "                \"timestamp\": 1531711240\n",
      "            }\n",
      "        },\n",
      "        \"desired\": {}\n",
      "    },\n",
      "    \"version\": 17,\n",
      "    \"timestamp\": 1531711240,\n",
      "    \"clientToken\": \"7cc8527e-f4e0-4a67-ab6b-c4a4645bf877\"\n",
      "}\n",
      "INFO:root:iota.onResponse(): payload: {\n",
      "    \"state\": {\n",
      "        \"reported\": {\n",
      "            \"outlet1\": \"off\",\n",
      "            \"outlet2\": \"off\"\n",
      "        },\n",
      "        \"desired\": {}\n",
      "    },\n",
      "    \"metadata\": {\n",
      "        \"reported\": {\n",
      "            \"outlet1\": {\n",
      "                \"timestamp\": 1531711240\n",
      "            },\n",
      "            \"outlet2\": {\n",
      "                \"timestamp\": 1531711240\n",
      "            }\n",
      "        },\n",
      "        \"desired\": {}\n",
      "    },\n",
      "    \"version\": 17,\n",
      "    \"timestamp\": 1531711240,\n",
      "    \"clientToken\": \"7cc8527e-f4e0-4a67-ab6b-c4a4645bf877\"\n",
      "}\n"
     ]
    }
   ],
   "source": [
    "iota.getShadow()"
   ]
  },
  {
   "cell_type": "code",
   "execution_count": null,
   "metadata": {},
   "outputs": [],
   "source": [
    "iota.disconnect()"
   ]
  },
  {
   "cell_type": "code",
   "execution_count": null,
   "metadata": {},
   "outputs": [],
   "source": []
  }
 ],
 "metadata": {
  "kernelspec": {
   "display_name": "Python 3",
   "language": "python",
   "name": "python3"
  },
  "language_info": {
   "codemirror_mode": {
    "name": "ipython",
    "version": 3
   },
   "file_extension": ".py",
   "mimetype": "text/x-python",
   "name": "python",
   "nbconvert_exporter": "python",
   "pygments_lexer": "ipython3",
   "version": "3.7.0"
  }
 },
 "nbformat": 4,
 "nbformat_minor": 2
}
