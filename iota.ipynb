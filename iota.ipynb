{
 "cells": [
  {
   "cell_type": "code",
   "execution_count": 1,
   "metadata": {},
   "outputs": [],
   "source": [
    "from AWSIoTPythonSDK.MQTTLib import AWSIoTMQTTShadowClient\n",
    "import json"
   ]
  },
  {
   "cell_type": "code",
   "execution_count": 54,
   "metadata": {},
   "outputs": [],
   "source": [
    "myShadowClient = AWSIoTMQTTShadowClient(\"iota\")"
   ]
  },
  {
   "cell_type": "code",
   "execution_count": 55,
   "metadata": {},
   "outputs": [],
   "source": [
    "myShadowClient.configureEndpoint(thingEndpoint, 8883)"
   ]
  },
  {
   "cell_type": "code",
   "execution_count": 56,
   "metadata": {},
   "outputs": [],
   "source": [
    "thingEndpoint=\"a3lybv9v64fkof.iot.us-west-2.amazonaws.com\""
   ]
  },
  {
   "cell_type": "code",
   "execution_count": 57,
   "metadata": {},
   "outputs": [],
   "source": [
    "myShadowClient.configureCredentials(\"/home/dennis/.aws/aws-iot-root-ca.pem\", \"/home/dennis/.aws/b498bb82fa-private.pem.key\", \"/home/dennis/.aws/b498bb82fa-certificate.pem.crt\")"
   ]
  },
  {
   "cell_type": "code",
   "execution_count": 58,
   "metadata": {},
   "outputs": [],
   "source": [
    "myShadowClient.configureConnectDisconnectTimeout(10)  # 10 sec\n",
    "myShadowClient.configureMQTTOperationTimeout(5)  # 5 sec"
   ]
  },
  {
   "cell_type": "code",
   "execution_count": 86,
   "metadata": {},
   "outputs": [
    {
     "data": {
      "text/plain": [
       "()"
      ]
     },
     "execution_count": 86,
     "metadata": {},
     "output_type": "execute_result"
    }
   ],
   "source": [
    "myShadowClient.connect()\n",
    "()"
   ]
  },
  {
   "cell_type": "code",
   "execution_count": 87,
   "metadata": {},
   "outputs": [
    {
     "data": {
      "text/plain": [
       "True"
      ]
     },
     "execution_count": 87,
     "metadata": {},
     "output_type": "execute_result"
    }
   ],
   "source": [
    "myShadowClient.disconnect()"
   ]
  },
  {
   "cell_type": "code",
   "execution_count": 63,
   "metadata": {},
   "outputs": [],
   "source": [
    "myDeviceShadow = myShadowClient.createShadowHandlerWithName(\"iota\", True)"
   ]
  },
  {
   "cell_type": "code",
   "execution_count": 66,
   "metadata": {},
   "outputs": [],
   "source": [
    "def onResponse(payload, responseStatus, token):\n",
    "    pd = json.loads(payload)\n",
    "    ps = json.dumps(pd, indent=4)\n",
    "    print(\"onResponse(): responseStatus: \" + str(responseStatus) + \", token: \" + str(token) + \", payload: \" + str(ps)\n",
    "         )\n",
    "    "
   ]
  },
  {
   "cell_type": "code",
   "execution_count": 67,
   "metadata": {},
   "outputs": [
    {
     "data": {
      "text/plain": [
       "'53f88487-4fcd-43a2-8807-be8338737d79'"
      ]
     },
     "execution_count": 67,
     "metadata": {},
     "output_type": "execute_result"
    },
    {
     "name": "stdout",
     "output_type": "stream",
     "text": [
      "onResponse(): responseStatus: accepted, token: 53f88487-4fcd-43a2-8807-be8338737d79, payload: {\n",
      "    \"state\": {\n",
      "        \"desired\": {\n",
      "            \"outlet1\": \"off\",\n",
      "            \"outlet2\": \"on\",\n",
      "            \"motion\": \"false\",\n",
      "            \"temperature\": 0\n",
      "        },\n",
      "        \"reported\": {\n",
      "            \"outlet1\": \"on\",\n",
      "            \"outlet2\": \"off\",\n",
      "            \"motion\": \"false\",\n",
      "            \"temperature\": 0\n",
      "        },\n",
      "        \"delta\": {\n",
      "            \"outlet1\": \"off\",\n",
      "            \"outlet2\": \"on\"\n",
      "        }\n",
      "    },\n",
      "    \"metadata\": {\n",
      "        \"desired\": {\n",
      "            \"outlet1\": {\n",
      "                \"timestamp\": 1528932930\n",
      "            },\n",
      "            \"outlet2\": {\n",
      "                \"timestamp\": 1528932930\n",
      "            },\n",
      "            \"motion\": {\n",
      "                \"timestamp\": 1528932930\n",
      "            },\n",
      "            \"temperature\": {\n",
      "                \"timestamp\": 1528932930\n",
      "            }\n",
      "        },\n",
      "        \"reported\": {\n",
      "            \"outlet1\": {\n",
      "                \"timestamp\": 1528932930\n",
      "            },\n",
      "            \"outlet2\": {\n",
      "                \"timestamp\": 1528932930\n",
      "            },\n",
      "            \"motion\": {\n",
      "                \"timestamp\": 1528932930\n",
      "            },\n",
      "            \"temperature\": {\n",
      "                \"timestamp\": 1528932930\n",
      "            }\n",
      "        }\n",
      "    },\n",
      "    \"version\": 5,\n",
      "    \"timestamp\": 1529014424,\n",
      "    \"clientToken\": \"53f88487-4fcd-43a2-8807-be8338737d79\"\n",
      "}\n"
     ]
    }
   ],
   "source": [
    "myDeviceShadow.shadowGet(onResponse, 5)"
   ]
  },
  {
   "cell_type": "code",
   "execution_count": 48,
   "metadata": {},
   "outputs": [],
   "source": [
    "initState = json.dumps({\n",
    "    \"state\": {\n",
    "        \"reported\": {\n",
    "            \"outlet1\": \"off\",\n",
    "            \"outlet2\": \"off\",\n",
    "            \"motion\": \"false\",\n",
    "            \"temperature\": 0.0\n",
    "        }\n",
    "    }\n",
    "})\n",
    "\n",
    "newState = json.dumps({\n",
    "    \"state\": {\n",
    "        \"reported\": {\n",
    "            \"outlet1\": \"on\",\n",
    "            \"outlet2\": \"off\",\n",
    "            \"motion\": \"false\",\n",
    "            \"temperature\": 0.0\n",
    "        }\n",
    "    }    \n",
    "})\n",
    "\n",
    "desState = json.dumps({\n",
    "    \"state\": {\n",
    "        \"desired\": {\n",
    "            \"outlet1\": \"on\",\n",
    "            \"outlet2\": \"on\",\n",
    "            \"motion\": \"false\",\n",
    "            \"temperature\": 0.0\n",
    "        }\n",
    "    }    \n",
    "})"
   ]
  },
  {
   "cell_type": "code",
   "execution_count": 40,
   "metadata": {},
   "outputs": [],
   "source": [
    "myDeviceShadow.shadowRegisterDeltaCallback(onResponse)"
   ]
  },
  {
   "cell_type": "code",
   "execution_count": 45,
   "metadata": {},
   "outputs": [
    {
     "data": {
      "text/plain": [
       "'0a32a50b-51ad-4064-9bd2-e956e27d31f4'"
      ]
     },
     "execution_count": 45,
     "metadata": {},
     "output_type": "execute_result"
    },
    {
     "name": "stdout",
     "output_type": "stream",
     "text": [
      "onResponse(): responseStatus: accepted, token: 0a32a50b-51ad-4064-9bd2-e956e27d31f4, payload: {\n",
      "    \"state\": {\n",
      "        \"reported\": {\n",
      "            \"outlet1\": \"off\",\n",
      "            \"outlet2\": \"off\",\n",
      "            \"motion\": \"false\",\n",
      "            \"temperature\": 0.0\n",
      "        }\n",
      "    },\n",
      "    \"metadata\": {\n",
      "        \"reported\": {\n",
      "            \"outlet1\": {\n",
      "                \"timestamp\": 1528929501\n",
      "            },\n",
      "            \"outlet2\": {\n",
      "                \"timestamp\": 1528929501\n",
      "            },\n",
      "            \"motion\": {\n",
      "                \"timestamp\": 1528929501\n",
      "            },\n",
      "            \"temperature\": {\n",
      "                \"timestamp\": 1528929501\n",
      "            }\n",
      "        }\n",
      "    },\n",
      "    \"version\": 2,\n",
      "    \"timestamp\": 1528929501,\n",
      "    \"clientToken\": \"0a32a50b-51ad-4064-9bd2-e956e27d31f4\"\n",
      "}\n"
     ]
    }
   ],
   "source": [
    "myDeviceShadow.shadowUpdate(initState, onResponse, 5)"
   ]
  },
  {
   "cell_type": "code",
   "execution_count": 49,
   "metadata": {},
   "outputs": [
    {
     "data": {
      "text/plain": [
       "'50ecb65f-a76b-4140-bba7-3ca8b3f1993b'"
      ]
     },
     "execution_count": 49,
     "metadata": {},
     "output_type": "execute_result"
    },
    {
     "name": "stdout",
     "output_type": "stream",
     "text": [
      "onResponse(): responseStatus: accepted, token: 50ecb65f-a76b-4140-bba7-3ca8b3f1993b, payload: {\n",
      "    \"state\": {\n",
      "        \"desired\": {\n",
      "            \"outlet1\": \"on\",\n",
      "            \"outlet2\": \"on\",\n",
      "            \"motion\": \"false\",\n",
      "            \"temperature\": 0.0\n",
      "        }\n",
      "    },\n",
      "    \"metadata\": {\n",
      "        \"desired\": {\n",
      "            \"outlet1\": {\n",
      "                \"timestamp\": 1528929824\n",
      "            },\n",
      "            \"outlet2\": {\n",
      "                \"timestamp\": 1528929824\n",
      "            },\n",
      "            \"motion\": {\n",
      "                \"timestamp\": 1528929824\n",
      "            },\n",
      "            \"temperature\": {\n",
      "                \"timestamp\": 1528929824\n",
      "            }\n",
      "        }\n",
      "    },\n",
      "    \"version\": 4,\n",
      "    \"timestamp\": 1528929824,\n",
      "    \"clientToken\": \"50ecb65f-a76b-4140-bba7-3ca8b3f1993b\"\n",
      "}\n"
     ]
    }
   ],
   "source": [
    "myDeviceShadow.shadowUpdate(desState, onResponse, 5)"
   ]
  },
  {
   "cell_type": "code",
   "execution_count": 23,
   "metadata": {},
   "outputs": [
    {
     "name": "stderr",
     "output_type": "stream",
     "text": [
      "Exception ignored in: <bound method Iota.__del__ of <__main__.Iota object at 0x7f25f007e278>>\n",
      "Traceback (most recent call last):\n",
      "  File \"/home/dennis/workspace/iota/iota.py\", line 39, in __del__\n",
      "    self.disconnect()\n",
      "  File \"/home/dennis/workspace/iota/iota.py\", line 58, in disconnect\n",
      "    self.client.disconnect()\n",
      "  File \"/home/dennis/workspace/iota/venv/lib/python3.6/site-packages/AWSIoTPythonSDK/MQTTLib.py\", line 1244, in disconnect\n",
      "    return self._AWSIoTMQTTClient.disconnect()\n",
      "  File \"/home/dennis/workspace/iota/venv/lib/python3.6/site-packages/AWSIoTPythonSDK/MQTTLib.py\", line 541, in disconnect\n",
      "    return self._mqtt_core.disconnect()\n",
      "  File \"/home/dennis/workspace/iota/venv/lib/python3.6/site-packages/AWSIoTPythonSDK/core/protocol/mqtt_core.py\", line 221, in disconnect\n",
      "    raise disconnectTimeoutException()\n",
      "AWSIoTPythonSDK.exception.AWSIoTExceptions.disconnectTimeoutException: \n"
     ]
    }
   ],
   "source": [
    "%run iota.py"
   ]
  },
  {
   "cell_type": "code",
   "execution_count": 6,
   "metadata": {},
   "outputs": [],
   "source": [
    "iota = Iota()"
   ]
  },
  {
   "cell_type": "code",
   "execution_count": 25,
   "metadata": {},
   "outputs": [],
   "source": [
    "del iota"
   ]
  },
  {
   "cell_type": "code",
   "execution_count": 24,
   "metadata": {},
   "outputs": [
    {
     "data": {
      "text/plain": [
       "'10a56c27-c3db-47a4-9829-0d180b6a428d'"
      ]
     },
     "execution_count": 24,
     "metadata": {},
     "output_type": "execute_result"
    },
    {
     "name": "stdout",
     "output_type": "stream",
     "text": [
      "onResponse(): calling iota.onResponse(): responseStatus: accepted\n",
      "iota.onResponse(): responseStatus: accepted\n",
      "onResponse(): thread spawned by caller\n",
      "iota.onResponse(): payload: {\n",
      "    \"state\": {\n",
      "        \"desired\": {\n",
      "            \"outlet1\": \"off\",\n",
      "            \"outlet2\": \"on\",\n",
      "            \"motion\": \"false\",\n",
      "            \"temperature\": 0\n",
      "        },\n",
      "        \"reported\": {\n",
      "            \"outlet1\": \"on\",\n",
      "            \"outlet2\": \"off\",\n",
      "            \"motion\": \"false\",\n",
      "            \"temperature\": 0\n",
      "        },\n",
      "        \"delta\": {\n",
      "            \"outlet1\": \"off\",\n",
      "            \"outlet2\": \"on\"\n",
      "        }\n",
      "    },\n",
      "    \"metadata\": {\n",
      "        \"desired\": {\n",
      "            \"outlet1\": {\n",
      "                \"timestamp\": 1528932930\n",
      "            },\n",
      "            \"outlet2\": {\n",
      "                \"timestamp\": 1528932930\n",
      "            },\n",
      "            \"motion\": {\n",
      "                \"timestamp\": 1528932930\n",
      "            },\n",
      "            \"temperature\": {\n",
      "                \"timestamp\": 1528932930\n",
      "            }\n",
      "        },\n",
      "        \"reported\": {\n",
      "            \"outlet1\": {\n",
      "                \"timestamp\": 1528932930\n",
      "            },\n",
      "            \"outlet2\": {\n",
      "                \"timestamp\": 1528932930\n",
      "            },\n",
      "            \"motion\": {\n",
      "                \"timestamp\": 1528932930\n",
      "            },\n",
      "            \"temperature\": {\n",
      "                \"timestamp\": 1528932930\n",
      "            }\n",
      "        }\n",
      "    },\n",
      "    \"version\": 5,\n",
      "    \"timestamp\": 1529708136,\n",
      "    \"clientToken\": \"10a56c27-c3db-47a4-9829-0d180b6a428d\"\n",
      "}\n"
     ]
    }
   ],
   "source": [
    "iota.getShadow()"
   ]
  },
  {
   "cell_type": "code",
   "execution_count": 89,
   "metadata": {},
   "outputs": [
    {
     "ename": "disconnectTimeoutException",
     "evalue": "",
     "output_type": "error",
     "traceback": [
      "\u001b[0;31m---------------------------------------------------------------------------\u001b[0m",
      "\u001b[0;31mdisconnectTimeoutException\u001b[0m                Traceback (most recent call last)",
      "\u001b[0;32m<ipython-input-89-dcf9ef3916a9>\u001b[0m in \u001b[0;36m<module>\u001b[0;34m()\u001b[0m\n\u001b[0;32m----> 1\u001b[0;31m \u001b[0miota\u001b[0m\u001b[0;34m.\u001b[0m\u001b[0mdisconnect\u001b[0m\u001b[0;34m(\u001b[0m\u001b[0;34m)\u001b[0m\u001b[0;34m\u001b[0m\u001b[0m\n\u001b[0m",
      "\u001b[0;32m~/workspace/iota/iota.py\u001b[0m in \u001b[0;36mdisconnect\u001b[0;34m(self)\u001b[0m\n\u001b[1;32m     48\u001b[0m     \u001b[0;32mdef\u001b[0m \u001b[0mdisconnect\u001b[0m\u001b[0;34m(\u001b[0m\u001b[0mself\u001b[0m\u001b[0;34m)\u001b[0m\u001b[0;34m:\u001b[0m\u001b[0;34m\u001b[0m\u001b[0m\n\u001b[1;32m     49\u001b[0m         \u001b[0mself\u001b[0m\u001b[0;34m.\u001b[0m\u001b[0mlog\u001b[0m\u001b[0;34m.\u001b[0m\u001b[0minfo\u001b[0m\u001b[0;34m(\u001b[0m\u001b[0;34m'disconnect(): disconnecting device client from AWS'\u001b[0m\u001b[0;34m)\u001b[0m\u001b[0;34m\u001b[0m\u001b[0m\n\u001b[0;32m---> 50\u001b[0;31m         \u001b[0mself\u001b[0m\u001b[0;34m.\u001b[0m\u001b[0mclient\u001b[0m\u001b[0;34m.\u001b[0m\u001b[0mdisconnect\u001b[0m\u001b[0;34m(\u001b[0m\u001b[0;34m)\u001b[0m\u001b[0;34m\u001b[0m\u001b[0m\n\u001b[0m\u001b[1;32m     51\u001b[0m         \u001b[0mself\u001b[0m\u001b[0;34m.\u001b[0m\u001b[0mlog\u001b[0m\u001b[0;34m.\u001b[0m\u001b[0minfo\u001b[0m\u001b[0;34m(\u001b[0m\u001b[0;34m'disconnect(): disconnected device client from AWS'\u001b[0m\u001b[0;34m)\u001b[0m\u001b[0;34m\u001b[0m\u001b[0m\n\u001b[1;32m     52\u001b[0m \u001b[0;34m\u001b[0m\u001b[0m\n",
      "\u001b[0;32m~/workspace/iota/venv/lib/python3.6/site-packages/AWSIoTPythonSDK/MQTTLib.py\u001b[0m in \u001b[0;36mdisconnect\u001b[0;34m(self)\u001b[0m\n\u001b[1;32m   1242\u001b[0m \u001b[0;34m\u001b[0m\u001b[0m\n\u001b[1;32m   1243\u001b[0m         \"\"\"\n\u001b[0;32m-> 1244\u001b[0;31m         \u001b[0;32mreturn\u001b[0m \u001b[0mself\u001b[0m\u001b[0;34m.\u001b[0m\u001b[0m_AWSIoTMQTTClient\u001b[0m\u001b[0;34m.\u001b[0m\u001b[0mdisconnect\u001b[0m\u001b[0;34m(\u001b[0m\u001b[0;34m)\u001b[0m\u001b[0;34m\u001b[0m\u001b[0m\n\u001b[0m\u001b[1;32m   1245\u001b[0m \u001b[0;34m\u001b[0m\u001b[0m\n\u001b[1;32m   1246\u001b[0m     \u001b[0;31m# Shadow management API\u001b[0m\u001b[0;34m\u001b[0m\u001b[0;34m\u001b[0m\u001b[0m\n",
      "\u001b[0;32m~/workspace/iota/venv/lib/python3.6/site-packages/AWSIoTPythonSDK/MQTTLib.py\u001b[0m in \u001b[0;36mdisconnect\u001b[0;34m(self)\u001b[0m\n\u001b[1;32m    539\u001b[0m \u001b[0;34m\u001b[0m\u001b[0m\n\u001b[1;32m    540\u001b[0m         \"\"\"\n\u001b[0;32m--> 541\u001b[0;31m         \u001b[0;32mreturn\u001b[0m \u001b[0mself\u001b[0m\u001b[0;34m.\u001b[0m\u001b[0m_mqtt_core\u001b[0m\u001b[0;34m.\u001b[0m\u001b[0mdisconnect\u001b[0m\u001b[0;34m(\u001b[0m\u001b[0;34m)\u001b[0m\u001b[0;34m\u001b[0m\u001b[0m\n\u001b[0m\u001b[1;32m    542\u001b[0m \u001b[0;34m\u001b[0m\u001b[0m\n\u001b[1;32m    543\u001b[0m     \u001b[0;32mdef\u001b[0m \u001b[0mdisconnectAsync\u001b[0m\u001b[0;34m(\u001b[0m\u001b[0mself\u001b[0m\u001b[0;34m,\u001b[0m \u001b[0mackCallback\u001b[0m\u001b[0;34m=\u001b[0m\u001b[0;32mNone\u001b[0m\u001b[0;34m)\u001b[0m\u001b[0;34m:\u001b[0m\u001b[0;34m\u001b[0m\u001b[0m\n",
      "\u001b[0;32m~/workspace/iota/venv/lib/python3.6/site-packages/AWSIoTPythonSDK/core/protocol/mqtt_core.py\u001b[0m in \u001b[0;36mdisconnect\u001b[0;34m(self)\u001b[0m\n\u001b[1;32m    219\u001b[0m         \u001b[0;32mif\u001b[0m \u001b[0;32mnot\u001b[0m \u001b[0mevent\u001b[0m\u001b[0;34m.\u001b[0m\u001b[0mwait\u001b[0m\u001b[0;34m(\u001b[0m\u001b[0mself\u001b[0m\u001b[0;34m.\u001b[0m\u001b[0m_connect_disconnect_timeout_sec\u001b[0m\u001b[0;34m)\u001b[0m\u001b[0;34m:\u001b[0m\u001b[0;34m\u001b[0m\u001b[0m\n\u001b[1;32m    220\u001b[0m             \u001b[0mself\u001b[0m\u001b[0;34m.\u001b[0m\u001b[0m_logger\u001b[0m\u001b[0;34m.\u001b[0m\u001b[0merror\u001b[0m\u001b[0;34m(\u001b[0m\u001b[0;34m\"Disconnect timed out\"\u001b[0m\u001b[0;34m)\u001b[0m\u001b[0;34m\u001b[0m\u001b[0m\n\u001b[0;32m--> 221\u001b[0;31m             \u001b[0;32mraise\u001b[0m \u001b[0mdisconnectTimeoutException\u001b[0m\u001b[0;34m(\u001b[0m\u001b[0;34m)\u001b[0m\u001b[0;34m\u001b[0m\u001b[0m\n\u001b[0m\u001b[1;32m    222\u001b[0m         \u001b[0;32mif\u001b[0m \u001b[0;32mnot\u001b[0m \u001b[0mself\u001b[0m\u001b[0;34m.\u001b[0m\u001b[0m_event_consumer\u001b[0m\u001b[0;34m.\u001b[0m\u001b[0mwait_until_it_stops\u001b[0m\u001b[0;34m(\u001b[0m\u001b[0mself\u001b[0m\u001b[0;34m.\u001b[0m\u001b[0m_connect_disconnect_timeout_sec\u001b[0m\u001b[0;34m)\u001b[0m\u001b[0;34m:\u001b[0m\u001b[0;34m\u001b[0m\u001b[0m\n\u001b[1;32m    223\u001b[0m             \u001b[0mself\u001b[0m\u001b[0;34m.\u001b[0m\u001b[0m_logger\u001b[0m\u001b[0;34m.\u001b[0m\u001b[0merror\u001b[0m\u001b[0;34m(\u001b[0m\u001b[0;34m\"Disconnect timed out in waiting for event consumer\"\u001b[0m\u001b[0;34m)\u001b[0m\u001b[0;34m\u001b[0m\u001b[0m\n",
      "\u001b[0;31mdisconnectTimeoutException\u001b[0m: "
     ]
    }
   ],
   "source": [
    "iota.disconnect()"
   ]
  },
  {
   "cell_type": "code",
   "execution_count": null,
   "metadata": {},
   "outputs": [],
   "source": []
  }
 ],
 "metadata": {
  "kernelspec": {
   "display_name": "Python 3",
   "language": "python",
   "name": "python3"
  },
  "language_info": {
   "codemirror_mode": {
    "name": "ipython",
    "version": 3
   },
   "file_extension": ".py",
   "mimetype": "text/x-python",
   "name": "python",
   "nbconvert_exporter": "python",
   "pygments_lexer": "ipython3",
   "version": "3.6.5"
  }
 },
 "nbformat": 4,
 "nbformat_minor": 2
}
